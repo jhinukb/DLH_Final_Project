{
 "cells": [
  {
   "cell_type": "code",
   "execution_count": 113,
   "metadata": {
    "id": "AA2k2TcuH9qq"
   },
   "outputs": [],
   "source": [
    "%matplotlib inline\n",
    "import numpy as np\n",
    "import pandas as pd\n",
    "from sklearn.metrics import f1_score\n",
    "import random\n",
    "from collections import Counter, defaultdict\n",
    "from operator import itemgetter\n",
    "import matplotlib.pyplot as plt\n",
    "from keras.models import Sequential, Model\n",
    "from keras.layers import Dense, Dropout, Flatten, Input, MaxPooling1D, Convolution1D, Embedding\n",
    "from keras.layers.merge import Concatenate\n",
    "from keras.models import load_model\n",
    "from IPython.display import SVG\n",
    "from keras.utils.vis_utils import model_to_dot\n",
    "import re\n",
    "import keras\n",
    "from keras.preprocessing.text import Tokenizer\n",
    "from keras.preprocessing.sequence import pad_sequences\n",
    "from keras.models import Sequential, Model\n",
    "from keras.layers import Dense, Dropout, Flatten, Input, MaxPooling1D, Convolution1D, Embedding\n",
    "from keras.layers.merge import Concatenate\n",
    "from keras import regularizers\n",
    "from sklearn.model_selection import train_test_split\n",
    "from sklearn.metrics import f1_score\n",
    "from sklearn.metrics import precision_recall_fscore_support\n",
    "from sklearn.metrics import accuracy_score\n",
    "from sklearn.metrics import classification_report"
   ]
  },
  {
   "cell_type": "code",
   "execution_count": 31,
   "metadata": {
    "colab": {
     "base_uri": "https://localhost:8080/"
    },
    "id": "Dri4DSdPLX_f",
    "outputId": "8023b49a-92e3-464b-d82c-baebc6e72d48"
   },
   "outputs": [
    {
     "name": "stdout",
     "output_type": "stream",
     "text": [
      "[Errno 2] No such file or directory: 'mimic-iii-clinical-database-1.4'\n",
      "/Users/jbarman/Documents/CS 598 DLH/DLH_Final_Project/mimic-iii-clinical-database-1.4\n",
      "ADMISSIONS.csv.gz          LABEVENTS.csv.gz\n",
      "CALLOUT.csv.gz             LICENSE.txt\n",
      "CAREGIVERS.csv.gz          MICROBIOLOGYEVENTS.csv.gz\n",
      "CHARTEVENTS.csv.gz         NOTEEVENTS.csv.gz\n",
      "CPTEVENTS.csv.gz           OUTPUTEVENTS.csv.gz\n",
      "DATETIMEEVENTS.csv.gz      PATIENTS.csv.gz\n",
      "DIAGNOSES_ICD.csv.gz       PRESCRIPTIONS.csv.gz\n",
      "DRGCODES.csv.gz            PROCEDUREEVENTS_MV.csv.gz\n",
      "D_CPT.csv.gz               PROCEDURES_ICD.csv.gz\n",
      "D_ICD_DIAGNOSES.csv.gz     README.md\n",
      "D_ICD_PROCEDURES.csv.gz    SERVICES.csv.gz\n",
      "D_ITEMS.csv.gz             SHA256SUMS.txt\n",
      "D_LABITEMS.csv.gz          TRANSFERS.csv.gz\n",
      "ICUSTAYS.csv.gz            checksum_md5_unzipped.txt\n",
      "INPUTEVENTS_CV.csv.gz      checksum_md5_zipped.txt\n",
      "INPUTEVENTS_MV.csv.gz\n"
     ]
    }
   ],
   "source": [
    "%cd 'mimic-iii-clinical-database-1.4'\n",
    "%ls"
   ]
  },
  {
   "cell_type": "code",
   "execution_count": 32,
   "metadata": {
    "colab": {
     "base_uri": "https://localhost:8080/",
     "height": 382
    },
    "id": "1FkP2m8ITZRH",
    "outputId": "614792ca-3607-4279-bcba-58c0b0862adc"
   },
   "outputs": [
    {
     "name": "stderr",
     "output_type": "stream",
     "text": [
      "/usr/local/Cellar/jupyterlab/2.2.9_1/libexec/lib/python3.9/site-packages/IPython/core/interactiveshell.py:3145: DtypeWarning: Columns (4,5) have mixed types.Specify dtype option on import or set low_memory=False.\n",
      "  has_raised = await self.run_ast_nodes(code_ast.body, cell_name,\n"
     ]
    },
    {
     "data": {
      "text/html": [
       "<div>\n",
       "<style scoped>\n",
       "    .dataframe tbody tr th:only-of-type {\n",
       "        vertical-align: middle;\n",
       "    }\n",
       "\n",
       "    .dataframe tbody tr th {\n",
       "        vertical-align: top;\n",
       "    }\n",
       "\n",
       "    .dataframe thead th {\n",
       "        text-align: right;\n",
       "    }\n",
       "</style>\n",
       "<table border=\"1\" class=\"dataframe\">\n",
       "  <thead>\n",
       "    <tr style=\"text-align: right;\">\n",
       "      <th></th>\n",
       "      <th>ROW_ID</th>\n",
       "      <th>SUBJECT_ID</th>\n",
       "      <th>HADM_ID</th>\n",
       "      <th>CHARTDATE</th>\n",
       "      <th>CHARTTIME</th>\n",
       "      <th>STORETIME</th>\n",
       "      <th>CATEGORY</th>\n",
       "      <th>DESCRIPTION</th>\n",
       "      <th>CGID</th>\n",
       "      <th>ISERROR</th>\n",
       "      <th>TEXT</th>\n",
       "    </tr>\n",
       "  </thead>\n",
       "  <tbody>\n",
       "    <tr>\n",
       "      <th>0</th>\n",
       "      <td>174</td>\n",
       "      <td>22532</td>\n",
       "      <td>167853.0</td>\n",
       "      <td>2151-08-04</td>\n",
       "      <td>NaN</td>\n",
       "      <td>NaN</td>\n",
       "      <td>Discharge summary</td>\n",
       "      <td>Report</td>\n",
       "      <td>NaN</td>\n",
       "      <td>NaN</td>\n",
       "      <td>Admission Date:  [**2151-7-16**]       Dischar...</td>\n",
       "    </tr>\n",
       "    <tr>\n",
       "      <th>1</th>\n",
       "      <td>175</td>\n",
       "      <td>13702</td>\n",
       "      <td>107527.0</td>\n",
       "      <td>2118-06-14</td>\n",
       "      <td>NaN</td>\n",
       "      <td>NaN</td>\n",
       "      <td>Discharge summary</td>\n",
       "      <td>Report</td>\n",
       "      <td>NaN</td>\n",
       "      <td>NaN</td>\n",
       "      <td>Admission Date:  [**2118-6-2**]       Discharg...</td>\n",
       "    </tr>\n",
       "    <tr>\n",
       "      <th>2</th>\n",
       "      <td>176</td>\n",
       "      <td>13702</td>\n",
       "      <td>167118.0</td>\n",
       "      <td>2119-05-25</td>\n",
       "      <td>NaN</td>\n",
       "      <td>NaN</td>\n",
       "      <td>Discharge summary</td>\n",
       "      <td>Report</td>\n",
       "      <td>NaN</td>\n",
       "      <td>NaN</td>\n",
       "      <td>Admission Date:  [**2119-5-4**]              D...</td>\n",
       "    </tr>\n",
       "    <tr>\n",
       "      <th>3</th>\n",
       "      <td>177</td>\n",
       "      <td>13702</td>\n",
       "      <td>196489.0</td>\n",
       "      <td>2124-08-18</td>\n",
       "      <td>NaN</td>\n",
       "      <td>NaN</td>\n",
       "      <td>Discharge summary</td>\n",
       "      <td>Report</td>\n",
       "      <td>NaN</td>\n",
       "      <td>NaN</td>\n",
       "      <td>Admission Date:  [**2124-7-21**]              ...</td>\n",
       "    </tr>\n",
       "    <tr>\n",
       "      <th>4</th>\n",
       "      <td>178</td>\n",
       "      <td>26880</td>\n",
       "      <td>135453.0</td>\n",
       "      <td>2162-03-25</td>\n",
       "      <td>NaN</td>\n",
       "      <td>NaN</td>\n",
       "      <td>Discharge summary</td>\n",
       "      <td>Report</td>\n",
       "      <td>NaN</td>\n",
       "      <td>NaN</td>\n",
       "      <td>Admission Date:  [**2162-3-3**]              D...</td>\n",
       "    </tr>\n",
       "  </tbody>\n",
       "</table>\n",
       "</div>"
      ],
      "text/plain": [
       "   ROW_ID  SUBJECT_ID   HADM_ID   CHARTDATE CHARTTIME STORETIME  \\\n",
       "0     174       22532  167853.0  2151-08-04       NaN       NaN   \n",
       "1     175       13702  107527.0  2118-06-14       NaN       NaN   \n",
       "2     176       13702  167118.0  2119-05-25       NaN       NaN   \n",
       "3     177       13702  196489.0  2124-08-18       NaN       NaN   \n",
       "4     178       26880  135453.0  2162-03-25       NaN       NaN   \n",
       "\n",
       "            CATEGORY DESCRIPTION  CGID  ISERROR  \\\n",
       "0  Discharge summary      Report   NaN      NaN   \n",
       "1  Discharge summary      Report   NaN      NaN   \n",
       "2  Discharge summary      Report   NaN      NaN   \n",
       "3  Discharge summary      Report   NaN      NaN   \n",
       "4  Discharge summary      Report   NaN      NaN   \n",
       "\n",
       "                                                TEXT  \n",
       "0  Admission Date:  [**2151-7-16**]       Dischar...  \n",
       "1  Admission Date:  [**2118-6-2**]       Discharg...  \n",
       "2  Admission Date:  [**2119-5-4**]              D...  \n",
       "3  Admission Date:  [**2124-7-21**]              ...  \n",
       "4  Admission Date:  [**2162-3-3**]              D...  "
      ]
     },
     "execution_count": 32,
     "metadata": {},
     "output_type": "execute_result"
    }
   ],
   "source": [
    "import pandas as pd\n",
    "import os\n",
    "fn = 'NOTEEVENTS.csv.gz'\n",
    "df = pd.read_csv(fn, compression='gzip')\n",
    "df.head()"
   ]
  },
  {
   "cell_type": "markdown",
   "metadata": {
    "id": "qUqn91ZSLUMu"
   },
   "source": [
    "Data Cleaning"
   ]
  },
  {
   "cell_type": "code",
   "execution_count": 59,
   "metadata": {
    "id": "gPIIysVQzgU9"
   },
   "outputs": [
    {
     "data": {
      "text/html": [
       "<div>\n",
       "<style scoped>\n",
       "    .dataframe tbody tr th:only-of-type {\n",
       "        vertical-align: middle;\n",
       "    }\n",
       "\n",
       "    .dataframe tbody tr th {\n",
       "        vertical-align: top;\n",
       "    }\n",
       "\n",
       "    .dataframe thead th {\n",
       "        text-align: right;\n",
       "    }\n",
       "</style>\n",
       "<table border=\"1\" class=\"dataframe\">\n",
       "  <thead>\n",
       "    <tr style=\"text-align: right;\">\n",
       "      <th></th>\n",
       "      <th>ROW_ID</th>\n",
       "      <th>SUBJECT_ID</th>\n",
       "      <th>HADM_ID</th>\n",
       "      <th>SEQ_NUM</th>\n",
       "      <th>ICD9_CODE</th>\n",
       "    </tr>\n",
       "  </thead>\n",
       "  <tbody>\n",
       "    <tr>\n",
       "      <th>0</th>\n",
       "      <td>1297</td>\n",
       "      <td>109</td>\n",
       "      <td>172335</td>\n",
       "      <td>1.0</td>\n",
       "      <td>40301</td>\n",
       "    </tr>\n",
       "    <tr>\n",
       "      <th>1</th>\n",
       "      <td>1298</td>\n",
       "      <td>109</td>\n",
       "      <td>172335</td>\n",
       "      <td>2.0</td>\n",
       "      <td>486</td>\n",
       "    </tr>\n",
       "    <tr>\n",
       "      <th>2</th>\n",
       "      <td>1299</td>\n",
       "      <td>109</td>\n",
       "      <td>172335</td>\n",
       "      <td>3.0</td>\n",
       "      <td>58281</td>\n",
       "    </tr>\n",
       "    <tr>\n",
       "      <th>3</th>\n",
       "      <td>1300</td>\n",
       "      <td>109</td>\n",
       "      <td>172335</td>\n",
       "      <td>4.0</td>\n",
       "      <td>5855</td>\n",
       "    </tr>\n",
       "    <tr>\n",
       "      <th>4</th>\n",
       "      <td>1301</td>\n",
       "      <td>109</td>\n",
       "      <td>172335</td>\n",
       "      <td>5.0</td>\n",
       "      <td>4254</td>\n",
       "    </tr>\n",
       "  </tbody>\n",
       "</table>\n",
       "</div>"
      ],
      "text/plain": [
       "   ROW_ID  SUBJECT_ID  HADM_ID  SEQ_NUM ICD9_CODE\n",
       "0    1297         109   172335      1.0     40301\n",
       "1    1298         109   172335      2.0       486\n",
       "2    1299         109   172335      3.0     58281\n",
       "3    1300         109   172335      4.0      5855\n",
       "4    1301         109   172335      5.0      4254"
      ]
     },
     "execution_count": 59,
     "metadata": {},
     "output_type": "execute_result"
    }
   ],
   "source": [
    "fn = 'DIAGNOSES_ICD.csv.gz'\n",
    "df_two = pd.read_csv(fn, compression='gzip')\n",
    "df_two.head()"
   ]
  },
  {
   "cell_type": "code",
   "execution_count": 60,
   "metadata": {
    "id": "P0wofD96cHJx"
   },
   "outputs": [],
   "source": [
    "df_two = df_two[~df_two['ICD9_CODE'].astype(str).str.startswith('V')]"
   ]
  },
  {
   "cell_type": "code",
   "execution_count": 61,
   "metadata": {
    "colab": {
     "base_uri": "https://localhost:8080/"
    },
    "id": "z-DQ3xsw1cFi",
    "outputId": "1255db48-e287-4b9a-b07c-3c9a8596c7d6"
   },
   "outputs": [
    {
     "name": "stdout",
     "output_type": "stream",
     "text": [
      "ICD9_CODE\n",
      "4019     17613\n",
      "41401    10775\n",
      "42731    10271\n",
      "4280      9843\n",
      "5849      7687\n",
      "2724      7465\n",
      "25000     7370\n",
      "51881     6719\n",
      "5990      5779\n",
      "2720      5335\n",
      "53081     5272\n",
      "2859      4993\n",
      "486       4423\n",
      "2851      4241\n",
      "2762      4177\n",
      "2449      3819\n",
      "496       3592\n",
      "99592     3560\n",
      "0389      3433\n",
      "5070      3396\n",
      "Name: SUBJECT_ID, dtype: int64\n"
     ]
    }
   ],
   "source": [
    "count = df_two.groupby('ICD9_CODE')['SUBJECT_ID'].nunique().nlargest(20)\n",
    "print(count)"
   ]
  },
  {
   "cell_type": "code",
   "execution_count": 109,
   "metadata": {},
   "outputs": [
    {
     "data": {
      "text/html": [
       "<div>\n",
       "<style scoped>\n",
       "    .dataframe tbody tr th:only-of-type {\n",
       "        vertical-align: middle;\n",
       "    }\n",
       "\n",
       "    .dataframe tbody tr th {\n",
       "        vertical-align: top;\n",
       "    }\n",
       "\n",
       "    .dataframe thead th {\n",
       "        text-align: right;\n",
       "    }\n",
       "</style>\n",
       "<table border=\"1\" class=\"dataframe\">\n",
       "  <thead>\n",
       "    <tr style=\"text-align: right;\">\n",
       "      <th></th>\n",
       "      <th>ROW_ID</th>\n",
       "      <th>SUBJECT_ID</th>\n",
       "      <th>HADM_ID</th>\n",
       "      <th>CHARTDATE</th>\n",
       "      <th>CHARTTIME</th>\n",
       "      <th>STORETIME</th>\n",
       "      <th>CATEGORY</th>\n",
       "      <th>DESCRIPTION</th>\n",
       "      <th>CGID</th>\n",
       "      <th>ISERROR</th>\n",
       "      <th>...</th>\n",
       "      <th>CHARTDATE_y</th>\n",
       "      <th>CHARTTIME_y</th>\n",
       "      <th>STORETIME_y</th>\n",
       "      <th>CATEGORY_y</th>\n",
       "      <th>DESCRIPTION_y</th>\n",
       "      <th>CGID_y</th>\n",
       "      <th>ISERROR_y</th>\n",
       "      <th>TEXT_y</th>\n",
       "      <th>SEQ_NUM</th>\n",
       "      <th>ICD9_CODE</th>\n",
       "    </tr>\n",
       "  </thead>\n",
       "  <tbody>\n",
       "    <tr>\n",
       "      <th>0</th>\n",
       "      <td>13909</td>\n",
       "      <td>1198</td>\n",
       "      <td>151608.0</td>\n",
       "      <td>2142-06-01</td>\n",
       "      <td>NaN</td>\n",
       "      <td>NaN</td>\n",
       "      <td>Discharge summary</td>\n",
       "      <td>Report</td>\n",
       "      <td>NaN</td>\n",
       "      <td>NaN</td>\n",
       "      <td>...</td>\n",
       "      <td>2142-06-01</td>\n",
       "      <td>NaN</td>\n",
       "      <td>NaN</td>\n",
       "      <td>Discharge summary</td>\n",
       "      <td>Report</td>\n",
       "      <td>NaN</td>\n",
       "      <td>NaN</td>\n",
       "      <td>Admission Date:  [**2142-5-23**]     Discharge...</td>\n",
       "      <td>8.0</td>\n",
       "      <td>78057</td>\n",
       "    </tr>\n",
       "    <tr>\n",
       "      <th>1</th>\n",
       "      <td>15950</td>\n",
       "      <td>1397</td>\n",
       "      <td>118027.0</td>\n",
       "      <td>2176-02-26</td>\n",
       "      <td>NaN</td>\n",
       "      <td>NaN</td>\n",
       "      <td>Discharge summary</td>\n",
       "      <td>Report</td>\n",
       "      <td>NaN</td>\n",
       "      <td>NaN</td>\n",
       "      <td>...</td>\n",
       "      <td>2176-02-26</td>\n",
       "      <td>NaN</td>\n",
       "      <td>NaN</td>\n",
       "      <td>Discharge summary</td>\n",
       "      <td>Report</td>\n",
       "      <td>NaN</td>\n",
       "      <td>NaN</td>\n",
       "      <td>Admission Date:  [**2176-2-26**]     Discharge...</td>\n",
       "      <td>2.0</td>\n",
       "      <td>1628</td>\n",
       "    </tr>\n",
       "    <tr>\n",
       "      <th>2</th>\n",
       "      <td>65519</td>\n",
       "      <td>5823</td>\n",
       "      <td>165240.0</td>\n",
       "      <td>2169-03-15</td>\n",
       "      <td>NaN</td>\n",
       "      <td>NaN</td>\n",
       "      <td>Echo</td>\n",
       "      <td>Report</td>\n",
       "      <td>NaN</td>\n",
       "      <td>NaN</td>\n",
       "      <td>...</td>\n",
       "      <td>2169-03-15</td>\n",
       "      <td>NaN</td>\n",
       "      <td>NaN</td>\n",
       "      <td>Echo</td>\n",
       "      <td>Report</td>\n",
       "      <td>NaN</td>\n",
       "      <td>NaN</td>\n",
       "      <td>PATIENT/TEST INFORMATION:\\nIndication: Pericar...</td>\n",
       "      <td>2.0</td>\n",
       "      <td>340</td>\n",
       "    </tr>\n",
       "    <tr>\n",
       "      <th>3</th>\n",
       "      <td>317451</td>\n",
       "      <td>28067</td>\n",
       "      <td>169880.0</td>\n",
       "      <td>2115-04-05</td>\n",
       "      <td>2115-04-05 07:17:00</td>\n",
       "      <td>2115-04-05 07:17:14</td>\n",
       "      <td>Physician</td>\n",
       "      <td>Physician Resident Progress Note</td>\n",
       "      <td>15235.0</td>\n",
       "      <td>NaN</td>\n",
       "      <td>...</td>\n",
       "      <td>2115-04-05</td>\n",
       "      <td>2115-04-05 07:17:00</td>\n",
       "      <td>2115-04-05 07:17:14</td>\n",
       "      <td>Physician</td>\n",
       "      <td>Physician Resident Progress Note</td>\n",
       "      <td>15235.0</td>\n",
       "      <td>NaN</td>\n",
       "      <td>Chief Complaint: Respiratory failure\\n   24 Ho...</td>\n",
       "      <td>4.0</td>\n",
       "      <td>4809</td>\n",
       "    </tr>\n",
       "    <tr>\n",
       "      <th>4</th>\n",
       "      <td>334126</td>\n",
       "      <td>29299</td>\n",
       "      <td>162468.0</td>\n",
       "      <td>2192-09-25</td>\n",
       "      <td>2192-09-25 09:41:00</td>\n",
       "      <td>2192-09-25 12:51:20</td>\n",
       "      <td>Nursing</td>\n",
       "      <td>Nursing Transfer Note</td>\n",
       "      <td>15623.0</td>\n",
       "      <td>NaN</td>\n",
       "      <td>...</td>\n",
       "      <td>2192-09-25</td>\n",
       "      <td>2192-09-25 09:41:00</td>\n",
       "      <td>2192-09-25 12:51:20</td>\n",
       "      <td>Nursing</td>\n",
       "      <td>Nursing Transfer Note</td>\n",
       "      <td>15623.0</td>\n",
       "      <td>NaN</td>\n",
       "      <td>`\\n   Pt 55 y/o m who presented from [**Hospit...</td>\n",
       "      <td>12.0</td>\n",
       "      <td>99631</td>\n",
       "    </tr>\n",
       "  </tbody>\n",
       "</table>\n",
       "<p>5 rows × 29 columns</p>\n",
       "</div>"
      ],
      "text/plain": [
       "   ROW_ID  SUBJECT_ID   HADM_ID   CHARTDATE            CHARTTIME  \\\n",
       "0   13909        1198  151608.0  2142-06-01                  NaN   \n",
       "1   15950        1397  118027.0  2176-02-26                  NaN   \n",
       "2   65519        5823  165240.0  2169-03-15                  NaN   \n",
       "3  317451       28067  169880.0  2115-04-05  2115-04-05 07:17:00   \n",
       "4  334126       29299  162468.0  2192-09-25  2192-09-25 09:41:00   \n",
       "\n",
       "             STORETIME           CATEGORY                       DESCRIPTION  \\\n",
       "0                  NaN  Discharge summary                            Report   \n",
       "1                  NaN  Discharge summary                            Report   \n",
       "2                  NaN               Echo                            Report   \n",
       "3  2115-04-05 07:17:14         Physician   Physician Resident Progress Note   \n",
       "4  2192-09-25 12:51:20            Nursing             Nursing Transfer Note   \n",
       "\n",
       "      CGID  ISERROR  ... CHARTDATE_y          CHARTTIME_y  \\\n",
       "0      NaN      NaN  ...  2142-06-01                  NaN   \n",
       "1      NaN      NaN  ...  2176-02-26                  NaN   \n",
       "2      NaN      NaN  ...  2169-03-15                  NaN   \n",
       "3  15235.0      NaN  ...  2115-04-05  2115-04-05 07:17:00   \n",
       "4  15623.0      NaN  ...  2192-09-25  2192-09-25 09:41:00   \n",
       "\n",
       "           STORETIME_y         CATEGORY_y                     DESCRIPTION_y  \\\n",
       "0                  NaN  Discharge summary                            Report   \n",
       "1                  NaN  Discharge summary                            Report   \n",
       "2                  NaN               Echo                            Report   \n",
       "3  2115-04-05 07:17:14         Physician   Physician Resident Progress Note   \n",
       "4  2192-09-25 12:51:20            Nursing             Nursing Transfer Note   \n",
       "\n",
       "    CGID_y  ISERROR_y                                             TEXT_y  \\\n",
       "0      NaN        NaN  Admission Date:  [**2142-5-23**]     Discharge...   \n",
       "1      NaN        NaN  Admission Date:  [**2176-2-26**]     Discharge...   \n",
       "2      NaN        NaN  PATIENT/TEST INFORMATION:\\nIndication: Pericar...   \n",
       "3  15235.0        NaN  Chief Complaint: Respiratory failure\\n   24 Ho...   \n",
       "4  15623.0        NaN  `\\n   Pt 55 y/o m who presented from [**Hospit...   \n",
       "\n",
       "  SEQ_NUM ICD9_CODE  \n",
       "0     8.0     78057  \n",
       "1     2.0      1628  \n",
       "2     2.0       340  \n",
       "3     4.0      4809  \n",
       "4    12.0     99631  \n",
       "\n",
       "[5 rows x 29 columns]"
      ]
     },
     "execution_count": 109,
     "metadata": {},
     "output_type": "execute_result"
    }
   ],
   "source": [
    "# df_two.join(df, on='HADM_ID', how='inner', lsuffix='_left', rsuffix='_right')\n",
    "df_two = pd.merge(df, df_two,  how='inner', on=['HADM_ID','ROW_ID', 'SUBJECT_ID'])\n",
    "df_two.head()"
   ]
  },
  {
   "cell_type": "code",
   "execution_count": 110,
   "metadata": {
    "colab": {
     "base_uri": "https://localhost:8080/",
     "height": 204
    },
    "id": "-hIBmOhfDBze",
    "outputId": "3ae3e004-670e-47e4-e1c6-ade838f6d9cb"
   },
   "outputs": [
    {
     "data": {
      "text/html": [
       "<div>\n",
       "<style scoped>\n",
       "    .dataframe tbody tr th:only-of-type {\n",
       "        vertical-align: middle;\n",
       "    }\n",
       "\n",
       "    .dataframe tbody tr th {\n",
       "        vertical-align: top;\n",
       "    }\n",
       "\n",
       "    .dataframe thead th {\n",
       "        text-align: right;\n",
       "    }\n",
       "</style>\n",
       "<table border=\"1\" class=\"dataframe\">\n",
       "  <thead>\n",
       "    <tr style=\"text-align: right;\">\n",
       "      <th></th>\n",
       "      <th>HADM_ID</th>\n",
       "      <th>SUBJECT_ID</th>\n",
       "      <th>DATE</th>\n",
       "      <th>ICD9_CODE</th>\n",
       "      <th>TEXT</th>\n",
       "    </tr>\n",
       "  </thead>\n",
       "  <tbody>\n",
       "    <tr>\n",
       "      <th>0</th>\n",
       "      <td>151608.0</td>\n",
       "      <td>1198</td>\n",
       "      <td>2142-06-01</td>\n",
       "      <td>78057</td>\n",
       "      <td>Admission Date:  [**2142-5-23**]     Discharge...</td>\n",
       "    </tr>\n",
       "    <tr>\n",
       "      <th>1</th>\n",
       "      <td>118027.0</td>\n",
       "      <td>1397</td>\n",
       "      <td>2176-02-26</td>\n",
       "      <td>1628</td>\n",
       "      <td>Admission Date:  [**2176-2-26**]     Discharge...</td>\n",
       "    </tr>\n",
       "    <tr>\n",
       "      <th>2</th>\n",
       "      <td>165240.0</td>\n",
       "      <td>5823</td>\n",
       "      <td>2169-03-15</td>\n",
       "      <td>340</td>\n",
       "      <td>PATIENT/TEST INFORMATION:\\nIndication: Pericar...</td>\n",
       "    </tr>\n",
       "    <tr>\n",
       "      <th>3</th>\n",
       "      <td>169880.0</td>\n",
       "      <td>28067</td>\n",
       "      <td>2115-04-05</td>\n",
       "      <td>4809</td>\n",
       "      <td>Chief Complaint: Respiratory failure\\n   24 Ho...</td>\n",
       "    </tr>\n",
       "    <tr>\n",
       "      <th>4</th>\n",
       "      <td>162468.0</td>\n",
       "      <td>29299</td>\n",
       "      <td>2192-09-25</td>\n",
       "      <td>99631</td>\n",
       "      <td>`\\n   Pt 55 y/o m who presented from [**Hospit...</td>\n",
       "    </tr>\n",
       "  </tbody>\n",
       "</table>\n",
       "</div>"
      ],
      "text/plain": [
       "    HADM_ID  SUBJECT_ID        DATE ICD9_CODE  \\\n",
       "0  151608.0        1198  2142-06-01     78057   \n",
       "1  118027.0        1397  2176-02-26      1628   \n",
       "2  165240.0        5823  2169-03-15       340   \n",
       "3  169880.0       28067  2115-04-05      4809   \n",
       "4  162468.0       29299  2192-09-25     99631   \n",
       "\n",
       "                                                TEXT  \n",
       "0  Admission Date:  [**2142-5-23**]     Discharge...  \n",
       "1  Admission Date:  [**2176-2-26**]     Discharge...  \n",
       "2  PATIENT/TEST INFORMATION:\\nIndication: Pericar...  \n",
       "3  Chief Complaint: Respiratory failure\\n   24 Ho...  \n",
       "4  `\\n   Pt 55 y/o m who presented from [**Hospit...  "
      ]
     },
     "execution_count": 110,
     "metadata": {},
     "output_type": "execute_result"
    }
   ],
   "source": [
    "dat = {'HADM_ID', 'SUBJECT_ID', 'DATE', 'ICD9_CODE', 'TEXT'}\n",
    "data = pd.DataFrame(dat) \n",
    "data['HADM_ID'] = df_two['HADM_ID']\n",
    "data['SUBJECT_ID'] = df_two['SUBJECT_ID']\n",
    "data['DATE'] = df_two['CHARTDATE']\n",
    "data['ICD9_CODE'] = df_two['ICD9_CODE']\n",
    "data['TEXT'] = df_two['TEXT']\n",
    "data = data.iloc[: , 1:]\n",
    "data.head()"
   ]
  },
  {
   "cell_type": "code",
   "execution_count": 63,
   "metadata": {
    "id": "2r_pqsbhFZAR"
   },
   "outputs": [],
   "source": [
    "def replace_with_grandparent_codes(string_codes, ICD9_FIRST_LEVEL):\n",
    "    \"\"\"replace_with_grandparent_codes takes a list of ICD9 codes and \n",
    "    returns the list of their grandparents ICD9 code in the first level of the ICD9 hierarchy\"\"\"\n",
    "    ICD9_RANGES = [x.split('-') for x in ICD9_FIRST_LEVEL]\n",
    "    resulting_codes = []\n",
    "    for code in string_codes.split(' '):\n",
    "        for i,gparent_range in enumerate(ICD9_RANGES):\n",
    "            range = gparent_range[1] if len(gparent_range) == 2 else gparent_range[0]\n",
    "            if code[0:3] <= range:\n",
    "                resulting_codes.append(ICD9_FIRST_LEVEL[i])\n",
    "                break \n",
    "    return ' '.join (set(resulting_codes))"
   ]
  },
  {
   "cell_type": "code",
   "execution_count": 64,
   "metadata": {
    "colab": {
     "base_uri": "https://localhost:8080/",
     "height": 204
    },
    "id": "kb26fdiTEb0T",
    "outputId": "976e8359-9211-4837-fe3a-9c99960ea620"
   },
   "outputs": [
    {
     "data": {
      "text/html": [
       "<div>\n",
       "<style scoped>\n",
       "    .dataframe tbody tr th:only-of-type {\n",
       "        vertical-align: middle;\n",
       "    }\n",
       "\n",
       "    .dataframe tbody tr th {\n",
       "        vertical-align: top;\n",
       "    }\n",
       "\n",
       "    .dataframe thead th {\n",
       "        text-align: right;\n",
       "    }\n",
       "</style>\n",
       "<table border=\"1\" class=\"dataframe\">\n",
       "  <thead>\n",
       "    <tr style=\"text-align: right;\">\n",
       "      <th></th>\n",
       "      <th>HADM_ID</th>\n",
       "      <th>SUBJECT_ID</th>\n",
       "      <th>DATE</th>\n",
       "      <th>ICD9_CODE</th>\n",
       "      <th>TEXT</th>\n",
       "    </tr>\n",
       "  </thead>\n",
       "  <tbody>\n",
       "    <tr>\n",
       "      <th>0</th>\n",
       "      <td>172335</td>\n",
       "      <td>109</td>\n",
       "      <td>2151-08-04</td>\n",
       "      <td>390-459</td>\n",
       "      <td>Admission Date:  [**2151-7-16**]       Dischar...</td>\n",
       "    </tr>\n",
       "    <tr>\n",
       "      <th>1</th>\n",
       "      <td>172335</td>\n",
       "      <td>109</td>\n",
       "      <td>2118-06-14</td>\n",
       "      <td>460-519</td>\n",
       "      <td>Admission Date:  [**2118-6-2**]       Discharg...</td>\n",
       "    </tr>\n",
       "    <tr>\n",
       "      <th>2</th>\n",
       "      <td>172335</td>\n",
       "      <td>109</td>\n",
       "      <td>2119-05-25</td>\n",
       "      <td>580-629</td>\n",
       "      <td>Admission Date:  [**2119-5-4**]              D...</td>\n",
       "    </tr>\n",
       "    <tr>\n",
       "      <th>3</th>\n",
       "      <td>172335</td>\n",
       "      <td>109</td>\n",
       "      <td>2124-08-18</td>\n",
       "      <td>580-629</td>\n",
       "      <td>Admission Date:  [**2124-7-21**]              ...</td>\n",
       "    </tr>\n",
       "    <tr>\n",
       "      <th>4</th>\n",
       "      <td>172335</td>\n",
       "      <td>109</td>\n",
       "      <td>2162-03-25</td>\n",
       "      <td>390-459</td>\n",
       "      <td>Admission Date:  [**2162-3-3**]              D...</td>\n",
       "    </tr>\n",
       "  </tbody>\n",
       "</table>\n",
       "</div>"
      ],
      "text/plain": [
       "   HADM_ID  SUBJECT_ID        DATE ICD9_CODE  \\\n",
       "0   172335         109  2151-08-04   390-459   \n",
       "1   172335         109  2118-06-14   460-519   \n",
       "2   172335         109  2119-05-25   580-629   \n",
       "3   172335         109  2124-08-18   580-629   \n",
       "4   172335         109  2162-03-25   390-459   \n",
       "\n",
       "                                                TEXT  \n",
       "0  Admission Date:  [**2151-7-16**]       Dischar...  \n",
       "1  Admission Date:  [**2118-6-2**]       Discharg...  \n",
       "2  Admission Date:  [**2119-5-4**]              D...  \n",
       "3  Admission Date:  [**2124-7-21**]              ...  \n",
       "4  Admission Date:  [**2162-3-3**]              D...  "
      ]
     },
     "execution_count": 64,
     "metadata": {},
     "output_type": "execute_result"
    }
   ],
   "source": [
    "ICD9_FIRST_LEVEL = [\n",
    "    '001-139','140-239','240-279','290-319', '320-389', '390-459','460-519', '520-579', '580-629', \n",
    "    '630-679', '680-709','710-739', '760-779', '780-789', '790-796', '797', '798', '799', '800-999' ]\n",
    "N_TOP = len(ICD9_FIRST_LEVEL)\n",
    "# replacing leave ICD9 codes with the grandparents\n",
    "data['ICD9_CODE'] = data['ICD9_CODE'].apply(lambda x: replace_with_grandparent_codes(x,ICD9_FIRST_LEVEL))\n",
    "data.head(10)"
   ]
  },
  {
   "cell_type": "code",
   "execution_count": 65,
   "metadata": {
    "id": "oCzlzm56GdBr"
   },
   "outputs": [],
   "source": [
    "def vectorize_icd_string(x, code_list):\n",
    "    r = []\n",
    "    for code in code_list:\n",
    "        if code in x: r.append(1)\n",
    "        else: r.append(0)\n",
    "    return np.asarray(r)"
   ]
  },
  {
   "cell_type": "code",
   "execution_count": 66,
   "metadata": {
    "id": "YxziOQ1LGW3V"
   },
   "outputs": [],
   "source": [
    "def vectorize_icd_column(df, col_name, code_list):\n",
    "    r = df[col_name].apply(lambda x: vectorize_icd_string(x, code_list))\n",
    "    r = np.transpose(np.column_stack(r))\n",
    "    return r"
   ]
  },
  {
   "cell_type": "code",
   "execution_count": 67,
   "metadata": {
    "colab": {
     "base_uri": "https://localhost:8080/"
    },
    "id": "6dNwIssuGHHC",
    "outputId": "52c0ae98-e41b-4adf-ace7-fc03b55e5cfd"
   },
   "outputs": [
    {
     "name": "stdout",
     "output_type": "stream",
     "text": [
      "sample of vectorized icd9 labels:  [0 0 0 0 0 1 0 0 0 0 0 0 0 0 0 0 0 0 0]\n"
     ]
    }
   ],
   "source": [
    "top_codes = ICD9_FIRST_LEVEL\n",
    "labels = vectorize_icd_column(data, 'ICD9_CODE', top_codes)\n",
    "print ('sample of vectorized icd9 labels: ', labels[0])"
   ]
  },
  {
   "cell_type": "code",
   "execution_count": 68,
   "metadata": {
    "id": "RbMpn98CO9UF"
   },
   "outputs": [],
   "source": [
    "from sklearn.model_selection import train_test_split\n",
    "def train_val_test_split(X, y, val_size=0.2, test_size=0.2, random_state=101):\n",
    "    \"\"\"Splits the input and labels into 3 sets\"\"\"\n",
    "    X_train, X_temp, y_train, y_temp = train_test_split(X, y, test_size=(val_size+test_size), random_state=random_state)\n",
    "    X_val, X_test, y_val, y_test = train_test_split(X_temp, y_temp, test_size=test_size/(val_size+test_size), random_state=random_state)\n",
    "    return X_train, X_val, X_test, y_train, y_val, y_test"
   ]
  },
  {
   "cell_type": "code",
   "execution_count": 92,
   "metadata": {
    "colab": {
     "base_uri": "https://localhost:8080/"
    },
    "id": "KuWGeEGROboq",
    "outputId": "e161c34d-10f2-490a-af87-61a8d373e117"
   },
   "outputs": [],
   "source": [
    "# X_train, X_val, X_test, y_train, y_val, y_test = train_val_test_split(\n",
    "#     data, labels, val_size=0.2, test_size=0.1, random_state=101)\n",
    "# print(\"Train: \", X_train.shape, y_train.shape)\n",
    "# print(\"Validation: \", X_val.shape, y_val.shape)\n",
    "# print(\"Test: \", X_test.shape, y_test.shape)"
   ]
  },
  {
   "cell_type": "code",
   "execution_count": 70,
   "metadata": {
    "id": "GHJprrofIHzg"
   },
   "outputs": [],
   "source": [
    "# Vectorize ICD codes\n",
    "def vectorize_icd_string(x, code_list):\n",
    "    \"\"\"Takes a string with ICD codes and returns an array of the right of 0/1\"\"\"\n",
    "    r = []\n",
    "    for code in code_list:\n",
    "        if code in x: r.append(1)\n",
    "        else: r.append(0)\n",
    "    return np.asarray(r)\n",
    "\n",
    "def vectorize_icd_column(df, col_name, code_list):\n",
    "    \"\"\"Takes a column and applies the \"\"\"\n",
    "    r = df[col_name].apply(lambda x: vectorize_icd_string(x, code_list))\n",
    "    r = np.transpose(np.column_stack(r))\n",
    "    return r\n",
    "\n",
    "\n",
    "# Clean Text\n",
    "def clean_str(string):\n",
    "    \"\"\"Cleaning of notes\"\"\"\n",
    "    string = string.lower()\n",
    "    string = string.replace(\"\\n\", \" \") # remove the lines\n",
    "    string = re.sub(\"\\[\\*\\*.*?\\*\\*\\]\", \"\", string) # remove the things inside the [** **]\n",
    "    string = re.sub(\"[^a-zA-Z0-9\\ \\']+\", \" \", string)\n",
    "    string = re.sub(r\"\\'s\", \" \\'s\", string)\n",
    "    string = re.sub(r\"\\'ve\", \" \\'ve\", string)\n",
    "    string = re.sub(r\"n\\'t\", \" n\\'t\", string)\n",
    "    string = re.sub(r\"\\'re\", \" \\'re\", string)\n",
    "    string = re.sub(r\"\\'d\", \" \\'d\", string)\n",
    "    string = re.sub(r\"\\'ll\", \" \\'ll\", string)\n",
    "    string = re.sub(r\"\\s{2,}\", \" \", string)\n",
    "    string = re.sub(r\"(\\d+)\", \"DG\", string)\n",
    "    \n",
    "    return string.strip()\n",
    "\n",
    "def clean_notes(df, col_name):\n",
    "    r = df[col_name].apply(lambda x: clean_str(x))\n",
    "    return r\n",
    "\n",
    "def vectorize_notes(col, MAX_NB_WORDS, verbose = True):\n",
    "    \"\"\"Takes a note column and encodes it into a series of integer\n",
    "        Also returns the dictionnary mapping the word to the integer\"\"\"\n",
    "    tokenizer = Tokenizer(num_words = MAX_NB_WORDS)\n",
    "    tokenizer.fit_on_texts(col)\n",
    "    data = tokenizer.texts_to_sequences(col)\n",
    "    note_length =  [len(x) for x in data]\n",
    "    vocab = tokenizer.word_index\n",
    "    MAX_VOCAB = len(vocab)\n",
    "    if verbose:\n",
    "        print('Vocabulary size: %s' % MAX_VOCAB)\n",
    "        print('Average note length: %s' % np.mean(note_length))\n",
    "        print('Max note length: %s' % np.max(note_length))\n",
    "    return data, vocab, MAX_VOCAB\n",
    "\n",
    "def pad_notes(data, MAX_SEQ_LENGTH):\n",
    "    data = pad_sequences(data, maxlen = MAX_SEQ_LENGTH)\n",
    "    return data, data.shape[1]\n",
    "\n",
    "# Creates an embedding Matrix\n",
    "# Based on https://blog.keras.io/using-pre-trained-word-embeddings-in-a-keras-model.html\n",
    "\n",
    "def embedding_matrix(f_name, dictionary, EMBEDDING_DIM, verbose = True, sigma = None):\n",
    "    \"\"\"Takes a pre-trained embedding and adapts it to the dictionary at hand\n",
    "        Words not found will be all-zeros in the matrix\"\"\"\n",
    "\n",
    "    # Dictionary of words from the pre trained embedding\n",
    "    pretrained_dict = {}\n",
    "    with open(f_name, 'r') as f:\n",
    "        for line in f:\n",
    "            values = line.split()\n",
    "            word = values[0]\n",
    "            coefs = np.asarray(values[1:], dtype='float32')\n",
    "            pretrained_dict[word] = coefs\n",
    "\n",
    "    # Default values for absent words\n",
    "    if sigma:\n",
    "        pretrained_matrix = sigma * np.random.rand(len(dictionary) + 1, EMBEDDING_DIM)\n",
    "    else:\n",
    "        pretrained_matrix = np.zeros((len(dictionary) + 1, EMBEDDING_DIM))\n",
    "    \n",
    "    # Substitution of default values by pretrained values when applicable\n",
    "    for word, i in dictionary.items():\n",
    "        vector = pretrained_dict.get(word)\n",
    "        if vector is not None:\n",
    "            pretrained_matrix[i] = vector\n",
    "\n",
    "    if verbose:\n",
    "        print('Vocabulary in notes:', len(dictionary))\n",
    "        print('Vocabulary in original embedding:', len(pretrained_dict))\n",
    "        inter = list( set(dictionary.keys()) & set(pretrained_dict.keys()) )\n",
    "        print('Vocabulary intersection:', len(inter))\n",
    "\n",
    "    return pretrained_matrix, pretrained_dict"
   ]
  },
  {
   "cell_type": "code",
   "execution_count": 71,
   "metadata": {
    "id": "BdGP1_fAHo0n"
   },
   "outputs": [
    {
     "name": "stdout",
     "output_type": "stream",
     "text": [
      "Vocabulary size: 1941\n",
      "Average note length: 1645.4\n",
      "Max note length: 2642\n",
      "Final Vocabulary: 1941\n",
      "Final Max Sequence Length: 100\n"
     ]
    }
   ],
   "source": [
    "#preprocess notes\n",
    "MAX_VOCAB = None # to limit original number of words (None if no limit)\n",
    "MAX_SEQ_LENGTH = 100 # to limit length of word sequence (None if no limit)\n",
    "data.TEXT = clean_notes(data, 'TEXT')\n",
    "data_vectorized, dictionary, MAX_VOCAB = vectorize_notes(data.TEXT, MAX_VOCAB, verbose = True)\n",
    "data_process, MAX_SEQ_LENGTH = pad_notes(data_vectorized, MAX_SEQ_LENGTH)\n",
    "\n",
    "print(\"Final Vocabulary: %s\" % MAX_VOCAB)\n",
    "print(\"Final Max Sequence Length: %s\" % MAX_SEQ_LENGTH)"
   ]
  },
  {
   "cell_type": "code",
   "execution_count": 72,
   "metadata": {
    "id": "9Cu0pcUnHv1b",
    "scrolled": true
   },
   "outputs": [
    {
     "name": "stdout",
     "output_type": "stream",
     "text": [
      "Vocabulary in notes: 1941\n",
      "Vocabulary in original embedding: 0\n",
      "Vocabulary intersection: 0\n"
     ]
    }
   ],
   "source": [
    "EMBEDDING_DIM = 100 # given the glove that we chose\n",
    "EMBEDDING_MATRIX= []\n",
    "\n",
    "#creating glove embeddings\n",
    "EMBEDDING_LOC = '../notes_100.txt' # location of embedding\n",
    "EMBEDDING_MATRIX, embedding_dict = embedding_matrix(EMBEDDING_LOC,dictionary, EMBEDDING_DIM, verbose = True, sigma=True)"
   ]
  },
  {
   "cell_type": "code",
   "execution_count": 93,
   "metadata": {},
   "outputs": [
    {
     "name": "stdout",
     "output_type": "stream",
     "text": [
      "Train:  (3, 100) (3, 19)\n",
      "Validation:  (1, 100) (1, 19)\n",
      "Test:  (1, 100) (1, 19)\n"
     ]
    }
   ],
   "source": [
    "X_train, X_val, X_test, y_train, y_val, y_test = train_val_test_split(\n",
    "    data_process, labels, val_size=0.2, test_size=0.1, random_state=101)\n",
    "print(\"Train: \", X_train.shape, y_train.shape)\n",
    "print(\"Validation: \", X_val.shape, y_val.shape)\n",
    "print(\"Test: \", X_test.shape, y_test.shape)"
   ]
  },
  {
   "cell_type": "markdown",
   "metadata": {
    "id": "EiCltJj_LZCy"
   },
   "source": [
    "Baseline"
   ]
  },
  {
   "cell_type": "code",
   "execution_count": 73,
   "metadata": {},
   "outputs": [
    {
     "data": {
      "text/html": [
       "<div>\n",
       "<style scoped>\n",
       "    .dataframe tbody tr th:only-of-type {\n",
       "        vertical-align: middle;\n",
       "    }\n",
       "\n",
       "    .dataframe tbody tr th {\n",
       "        vertical-align: top;\n",
       "    }\n",
       "\n",
       "    .dataframe thead th {\n",
       "        text-align: right;\n",
       "    }\n",
       "</style>\n",
       "<table border=\"1\" class=\"dataframe\">\n",
       "  <thead>\n",
       "    <tr style=\"text-align: right;\">\n",
       "      <th></th>\n",
       "      <th>HADM_ID</th>\n",
       "      <th>SUBJECT_ID</th>\n",
       "      <th>DATE</th>\n",
       "      <th>ICD9_CODE</th>\n",
       "      <th>TEXT</th>\n",
       "    </tr>\n",
       "  </thead>\n",
       "  <tbody>\n",
       "    <tr>\n",
       "      <th>0</th>\n",
       "      <td>172335</td>\n",
       "      <td>109</td>\n",
       "      <td>2151-08-04</td>\n",
       "      <td>390-459</td>\n",
       "      <td>admission date discharge date service addendum...</td>\n",
       "    </tr>\n",
       "    <tr>\n",
       "      <th>1</th>\n",
       "      <td>172335</td>\n",
       "      <td>109</td>\n",
       "      <td>2118-06-14</td>\n",
       "      <td>460-519</td>\n",
       "      <td>admission date discharge date date of birth se...</td>\n",
       "    </tr>\n",
       "    <tr>\n",
       "      <th>2</th>\n",
       "      <td>172335</td>\n",
       "      <td>109</td>\n",
       "      <td>2119-05-25</td>\n",
       "      <td>580-629</td>\n",
       "      <td>admission date discharge date service cardioth...</td>\n",
       "    </tr>\n",
       "    <tr>\n",
       "      <th>3</th>\n",
       "      <td>172335</td>\n",
       "      <td>109</td>\n",
       "      <td>2124-08-18</td>\n",
       "      <td>580-629</td>\n",
       "      <td>admission date discharge date service medicine...</td>\n",
       "    </tr>\n",
       "    <tr>\n",
       "      <th>4</th>\n",
       "      <td>172335</td>\n",
       "      <td>109</td>\n",
       "      <td>2162-03-25</td>\n",
       "      <td>390-459</td>\n",
       "      <td>admission date discharge date date of birth se...</td>\n",
       "    </tr>\n",
       "  </tbody>\n",
       "</table>\n",
       "</div>"
      ],
      "text/plain": [
       "   HADM_ID  SUBJECT_ID        DATE ICD9_CODE  \\\n",
       "0   172335         109  2151-08-04   390-459   \n",
       "1   172335         109  2118-06-14   460-519   \n",
       "2   172335         109  2119-05-25   580-629   \n",
       "3   172335         109  2124-08-18   580-629   \n",
       "4   172335         109  2162-03-25   390-459   \n",
       "\n",
       "                                                TEXT  \n",
       "0  admission date discharge date service addendum...  \n",
       "1  admission date discharge date date of birth se...  \n",
       "2  admission date discharge date service cardioth...  \n",
       "3  admission date discharge date service medicine...  \n",
       "4  admission date discharge date date of birth se...  "
      ]
     },
     "execution_count": 73,
     "metadata": {},
     "output_type": "execute_result"
    }
   ],
   "source": [
    "data"
   ]
  },
  {
   "cell_type": "code",
   "execution_count": 74,
   "metadata": {
    "id": "JdzWi1G9Lqlp"
   },
   "outputs": [],
   "source": [
    "icd9_codes = Counter()\n",
    "for label in data['ICD9_CODE']:\n",
    "    for icd9_code in label.split():\n",
    "        icd9_codes[icd9_code] += 1\n",
    "number_icd9_first_level = len (icd9_codes)"
   ]
  },
  {
   "cell_type": "code",
   "execution_count": 77,
   "metadata": {
    "id": "c-EHmgfXLQTb"
   },
   "outputs": [
    {
     "name": "stdout",
     "output_type": "stream",
     "text": [
      "most common 4 icd9_codes:  [('390-459', 2), ('580-629', 2), ('460-519', 1)]\n",
      "label for the top 4 icd9 codes:  390-459 580-629 460-519\n"
     ]
    }
   ],
   "source": [
    "top_4_icd9 = icd9_codes.most_common(4)\n",
    "print(\"most common 4 icd9_codes: \", top_4_icd9)\n",
    "top_4_icd9_label = ' '.join(code for code,count in top_4_icd9 )\n",
    "print('label for the top 4 icd9 codes: ', top_4_icd9_label)"
   ]
  },
  {
   "cell_type": "code",
   "execution_count": 79,
   "metadata": {
    "id": "_IV7ORn2LcOv"
   },
   "outputs": [
    {
     "name": "stdout",
     "output_type": "stream",
     "text": [
      "['001-139', '140-239', '240-279', '290-319', '320-389', '390-459', '460-519', '520-579', '580-629', '630-679', '680-709', '710-739', '760-779', '780-789', '790-796', '797', '798', '799', '800-999']\n",
      "[0 0 0 0 0 1 1 0 1 0 0 0 0 0 0 0 0 0 0]\n"
     ]
    }
   ],
   "source": [
    "#converting ICD9 prediction to a vector\n",
    "top4_icd9_vector =  vectorize_icd_string(top_4_icd9_label, ICD9_FIRST_LEVEL)\n",
    "print(ICD9_FIRST_LEVEL)\n",
    "print(top4_icd9_vector)"
   ]
  },
  {
   "cell_type": "code",
   "execution_count": 82,
   "metadata": {},
   "outputs": [],
   "source": [
    "def write_col(df, col_name, fname):\n",
    "    df[col_name].to_csv(fname)\n",
    "    \n",
    "\n",
    "def get_f1_score(y_true,y_hat,threshold, average):\n",
    "    hot_y = np.where(np.array(y_hat) > threshold, 1, 0)\n",
    "    return f1_score(np.array(y_true), hot_y, average=average)\n",
    "\n",
    "def show_f1_score(y_train, pred_train, y_val, pred_dev):\n",
    "    print('F1 scores')\n",
    "    print('threshold | training | dev  ')\n",
    "    f1_score_average = 'micro'\n",
    "    for threshold in [ 0.02, 0.03,0.04,0.05,0.055,0.058,0.06, 0.08, 0.1,0.2,0.3, 0.4, 0.5, 0.6,0.7]:\n",
    "        train_f1 = get_f1_score(y_train, pred_train,threshold,f1_score_average)\n",
    "        dev_f1 = get_f1_score(y_val, pred_dev,threshold,f1_score_average)\n",
    "        print('%1.3f:      %1.3f      %1.3f' % (threshold,train_f1, dev_f1))"
   ]
  },
  {
   "cell_type": "code",
   "execution_count": 85,
   "metadata": {
    "id": "UDrEgBJGL2yp",
    "scrolled": true
   },
   "outputs": [
    {
     "name": "stdout",
     "output_type": "stream",
     "text": [
      "F1 scores\n",
      "threshold | training | dev  \n",
      "0.020:      0.500      0.500\n",
      "0.030:      0.500      0.500\n",
      "0.040:      0.500      0.500\n",
      "0.050:      0.500      0.500\n",
      "0.055:      0.500      0.500\n",
      "0.058:      0.500      0.500\n",
      "0.060:      0.500      0.500\n",
      "0.080:      0.500      0.500\n",
      "0.100:      0.500      0.500\n",
      "0.200:      0.500      0.500\n",
      "0.300:      0.500      0.500\n",
      "0.400:      0.500      0.500\n",
      "0.500:      0.500      0.500\n",
      "0.600:      0.500      0.500\n",
      "0.700:      0.500      0.500\n"
     ]
    }
   ],
   "source": [
    "## assign icd9_prediction_vector to every discharge\n",
    "train_y_hat_baseline = [top4_icd9_vector]* len(y_train)\n",
    "dev_y_hat_baseline = [top4_icd9_vector]* len(y_val)\n",
    "show_f1_score(y_train, train_y_hat_baseline, y_val, dev_y_hat_baseline)\n"
   ]
  },
  {
   "cell_type": "code",
   "execution_count": 133,
   "metadata": {},
   "outputs": [
    {
     "name": "stdout",
     "output_type": "stream",
     "text": [
      "              precision    recall  f1-score   support\n",
      "\n",
      "           0       0.00      0.00      0.00         0\n",
      "           1       0.00      0.00      0.00         0\n",
      "           2       0.00      0.00      0.00         0\n",
      "           3       0.00      0.00      0.00         0\n",
      "           4       0.00      0.00      0.00         0\n",
      "           5       0.00      0.00      0.00         0\n",
      "           6       0.33      1.00      0.50         1\n",
      "           7       0.00      0.00      0.00         0\n",
      "           8       0.67      1.00      0.80         2\n",
      "           9       0.00      0.00      0.00         0\n",
      "          10       0.00      0.00      0.00         0\n",
      "          11       0.00      0.00      0.00         0\n",
      "          12       0.00      0.00      0.00         0\n",
      "          13       0.00      0.00      0.00         0\n",
      "          14       0.00      0.00      0.00         0\n",
      "          15       0.00      0.00      0.00         0\n",
      "          16       0.00      0.00      0.00         0\n",
      "          17       0.00      0.00      0.00         0\n",
      "          18       0.00      0.00      0.00         0\n",
      "\n",
      "   micro avg       0.33      1.00      0.50         3\n",
      "   macro avg       0.05      0.11      0.07         3\n",
      "weighted avg       0.56      1.00      0.70         3\n",
      " samples avg       0.33      1.00      0.50         3\n",
      "\n"
     ]
    },
    {
     "name": "stderr",
     "output_type": "stream",
     "text": [
      "/usr/local/Cellar/jupyterlab/2.2.9_1/libexec/lib/python3.9/site-packages/sklearn/metrics/_classification.py:1308: UndefinedMetricWarning: Precision and F-score are ill-defined and being set to 0.0 in labels with no predicted samples. Use `zero_division` parameter to control this behavior.\n",
      "  _warn_prf(average, modifier, msg_start, len(result))\n",
      "/usr/local/Cellar/jupyterlab/2.2.9_1/libexec/lib/python3.9/site-packages/sklearn/metrics/_classification.py:1308: UndefinedMetricWarning: Recall and F-score are ill-defined and being set to 0.0 in labels with no true samples. Use `zero_division` parameter to control this behavior.\n",
      "  _warn_prf(average, modifier, msg_start, len(result))\n"
     ]
    }
   ],
   "source": [
    "print(classification_report(y_train, train_y_hat_baseline))"
   ]
  },
  {
   "cell_type": "code",
   "execution_count": 134,
   "metadata": {},
   "outputs": [
    {
     "data": {
      "text/plain": [
       "0.0"
      ]
     },
     "execution_count": 134,
     "metadata": {},
     "output_type": "execute_result"
    }
   ],
   "source": [
    "accuracy_score(y_train, train_y_hat_baseline)"
   ]
  },
  {
   "cell_type": "markdown",
   "metadata": {
    "id": "ynFUOS2pL7ah"
   },
   "source": [
    "CNN Model"
   ]
  },
  {
   "cell_type": "code",
   "execution_count": 86,
   "metadata": {
    "id": "1u8NGNd_L6rp"
   },
   "outputs": [],
   "source": [
    "def build_icd9_cnn_model(input_seq_length, \n",
    "                         max_vocab, external_embeddings, embedding_dim, embedding_matrix,\n",
    "                         num_filters, filter_sizes,\n",
    "                         training_dropout_keep_prob,\n",
    "                         num_classes):\n",
    "    #Embedding\n",
    "    model_input = Input(shape=(input_seq_length, ))\n",
    "    if external_embeddings:\n",
    "        # use embedding_matrix \n",
    "        z = Embedding(max_vocab + 1,\n",
    "                            embedding_dim,\n",
    "                            weights=[embedding_matrix],\n",
    "                            input_length=input_seq_length,\n",
    "                            trainable=True)(model_input)\n",
    "    else:\n",
    "        # train embeddings \n",
    "        z =  Embedding(max_vocab + 1, \n",
    "                   embedding_dim, \n",
    "                   input_length=input_seq_length, embeddings_regularizer=regularizers.l2(0.0001),\n",
    "                   name=\"embedding\")(model_input)\n",
    "\n",
    "    # Convolutional block\n",
    "    conv_blocks = []\n",
    "    for sz in filter_sizes:\n",
    "        conv = Convolution1D(filters=num_filters,                         \n",
    "                         kernel_size=sz,\n",
    "                         padding=\"valid\",\n",
    "                         activation=\"relu\",\n",
    "                         strides=1)(z)\n",
    "        window_pool_size =  input_seq_length  - sz + 1 \n",
    "        conv = MaxPooling1D(pool_size=window_pool_size)(conv)  \n",
    "        conv = Flatten()(conv)\n",
    "        conv_blocks.append(conv)\n",
    "\n",
    "    #concatenate\n",
    "    z = Concatenate()(conv_blocks) if len(conv_blocks) > 1 else conv_blocks[0]\n",
    "    z = Dropout(training_dropout_keep_prob)(z)\n",
    "\n",
    "    #score prediction\n",
    "    model_output = Dense(num_classes, activation=\"sigmoid\")(z)\n",
    "\n",
    "    #creating model\n",
    "    model = Model(model_input, model_output)\n",
    "    model.compile(loss=\"binary_crossentropy\", optimizer=\"adam\", metrics=[\"accuracy\"])\n",
    "    \n",
    "    print(model.summary())\n",
    "\n",
    "    return model"
   ]
  },
  {
   "cell_type": "code",
   "execution_count": 87,
   "metadata": {
    "colab": {
     "base_uri": "https://localhost:8080/",
     "height": 248
    },
    "id": "oxD8qZInMJBe",
    "outputId": "aa8251c8-0e7b-4f9d-9fcf-4cb9fda90049"
   },
   "outputs": [
    {
     "name": "stdout",
     "output_type": "stream",
     "text": [
      "Model: \"model\"\n",
      "__________________________________________________________________________________________________\n",
      " Layer (type)                   Output Shape         Param #     Connected to                     \n",
      "==================================================================================================\n",
      " input_1 (InputLayer)           [(None, 100)]        0           []                               \n",
      "                                                                                                  \n",
      " embedding (Embedding)          (None, 100, 100)     194200      ['input_1[0][0]']                \n",
      "                                                                                                  \n",
      " conv1d (Conv1D)                (None, 99, 100)      20100       ['embedding[0][0]']              \n",
      "                                                                                                  \n",
      " conv1d_1 (Conv1D)              (None, 98, 100)      30100       ['embedding[0][0]']              \n",
      "                                                                                                  \n",
      " conv1d_2 (Conv1D)              (None, 97, 100)      40100       ['embedding[0][0]']              \n",
      "                                                                                                  \n",
      " conv1d_3 (Conv1D)              (None, 96, 100)      50100       ['embedding[0][0]']              \n",
      "                                                                                                  \n",
      " max_pooling1d (MaxPooling1D)   (None, 1, 100)       0           ['conv1d[0][0]']                 \n",
      "                                                                                                  \n",
      " max_pooling1d_1 (MaxPooling1D)  (None, 1, 100)      0           ['conv1d_1[0][0]']               \n",
      "                                                                                                  \n",
      " max_pooling1d_2 (MaxPooling1D)  (None, 1, 100)      0           ['conv1d_2[0][0]']               \n",
      "                                                                                                  \n",
      " max_pooling1d_3 (MaxPooling1D)  (None, 1, 100)      0           ['conv1d_3[0][0]']               \n",
      "                                                                                                  \n",
      " flatten (Flatten)              (None, 100)          0           ['max_pooling1d[0][0]']          \n",
      "                                                                                                  \n",
      " flatten_1 (Flatten)            (None, 100)          0           ['max_pooling1d_1[0][0]']        \n",
      "                                                                                                  \n",
      " flatten_2 (Flatten)            (None, 100)          0           ['max_pooling1d_2[0][0]']        \n",
      "                                                                                                  \n",
      " flatten_3 (Flatten)            (None, 100)          0           ['max_pooling1d_3[0][0]']        \n",
      "                                                                                                  \n",
      " concatenate (Concatenate)      (None, 400)          0           ['flatten[0][0]',                \n",
      "                                                                  'flatten_1[0][0]',              \n",
      "                                                                  'flatten_2[0][0]',              \n",
      "                                                                  'flatten_3[0][0]']              \n",
      "                                                                                                  \n",
      " dropout (Dropout)              (None, 400)          0           ['concatenate[0][0]']            \n",
      "                                                                                                  \n",
      " dense (Dense)                  (None, 19)           7619        ['dropout[0][0]']                \n",
      "                                                                                                  \n",
      "==================================================================================================\n",
      "Total params: 342,219\n",
      "Trainable params: 342,219\n",
      "Non-trainable params: 0\n",
      "__________________________________________________________________________________________________\n",
      "None\n"
     ]
    }
   ],
   "source": [
    "model = build_icd9_cnn_model(input_seq_length=MAX_SEQ_LENGTH, max_vocab = MAX_VOCAB,\n",
    "                             external_embeddings = False,\n",
    "                             embedding_dim=EMBEDDING_DIM,embedding_matrix=EMBEDDING_MATRIX,\n",
    "                             num_filters = 100, filter_sizes=[2,3,4,5],\n",
    "                             training_dropout_keep_prob=0.5,\n",
    "                             num_classes=N_TOP )"
   ]
  },
  {
   "cell_type": "code",
   "execution_count": 94,
   "metadata": {
    "id": "t24fNkPEMWgA"
   },
   "outputs": [
    {
     "name": "stdout",
     "output_type": "stream",
     "text": [
      "Epoch 1/20\n",
      "1/1 - 2s - loss: 0.7049 - accuracy: 0.0000e+00 - val_loss: 0.6884 - val_accuracy: 0.0000e+00 - 2s/epoch - 2s/step\n",
      "Epoch 2/20\n",
      "1/1 - 0s - loss: 0.6799 - accuracy: 0.0000e+00 - val_loss: 0.6748 - val_accuracy: 0.0000e+00 - 42ms/epoch - 42ms/step\n",
      "Epoch 3/20\n",
      "1/1 - 0s - loss: 0.6610 - accuracy: 0.0000e+00 - val_loss: 0.6617 - val_accuracy: 0.0000e+00 - 37ms/epoch - 37ms/step\n",
      "Epoch 4/20\n",
      "1/1 - 0s - loss: 0.6309 - accuracy: 0.3333 - val_loss: 0.6488 - val_accuracy: 0.0000e+00 - 38ms/epoch - 38ms/step\n",
      "Epoch 5/20\n",
      "1/1 - 0s - loss: 0.6156 - accuracy: 0.3333 - val_loss: 0.6359 - val_accuracy: 0.0000e+00 - 36ms/epoch - 36ms/step\n",
      "Epoch 6/20\n",
      "1/1 - 0s - loss: 0.5752 - accuracy: 0.6667 - val_loss: 0.6231 - val_accuracy: 0.0000e+00 - 28ms/epoch - 28ms/step\n",
      "Epoch 7/20\n",
      "1/1 - 0s - loss: 0.5507 - accuracy: 0.6667 - val_loss: 0.6105 - val_accuracy: 0.0000e+00 - 37ms/epoch - 37ms/step\n",
      "Epoch 8/20\n",
      "1/1 - 0s - loss: 0.5239 - accuracy: 0.6667 - val_loss: 0.5979 - val_accuracy: 0.0000e+00 - 35ms/epoch - 35ms/step\n",
      "Epoch 9/20\n",
      "1/1 - 0s - loss: 0.5065 - accuracy: 0.6667 - val_loss: 0.5854 - val_accuracy: 0.0000e+00 - 35ms/epoch - 35ms/step\n",
      "Epoch 10/20\n",
      "1/1 - 0s - loss: 0.4803 - accuracy: 1.0000 - val_loss: 0.5726 - val_accuracy: 0.0000e+00 - 36ms/epoch - 36ms/step\n",
      "Epoch 11/20\n",
      "1/1 - 0s - loss: 0.4477 - accuracy: 0.6667 - val_loss: 0.5597 - val_accuracy: 0.0000e+00 - 34ms/epoch - 34ms/step\n",
      "Epoch 12/20\n",
      "1/1 - 0s - loss: 0.4156 - accuracy: 1.0000 - val_loss: 0.5465 - val_accuracy: 0.0000e+00 - 32ms/epoch - 32ms/step\n",
      "Epoch 13/20\n",
      "1/1 - 0s - loss: 0.3962 - accuracy: 1.0000 - val_loss: 0.5331 - val_accuracy: 0.0000e+00 - 23ms/epoch - 23ms/step\n",
      "Epoch 14/20\n",
      "1/1 - 0s - loss: 0.3770 - accuracy: 1.0000 - val_loss: 0.5197 - val_accuracy: 0.0000e+00 - 31ms/epoch - 31ms/step\n",
      "Epoch 15/20\n",
      "1/1 - 0s - loss: 0.3600 - accuracy: 1.0000 - val_loss: 0.5061 - val_accuracy: 0.0000e+00 - 29ms/epoch - 29ms/step\n",
      "Epoch 16/20\n",
      "1/1 - 0s - loss: 0.3293 - accuracy: 1.0000 - val_loss: 0.4925 - val_accuracy: 0.0000e+00 - 33ms/epoch - 33ms/step\n",
      "Epoch 17/20\n",
      "1/1 - 0s - loss: 0.3003 - accuracy: 1.0000 - val_loss: 0.4788 - val_accuracy: 0.0000e+00 - 37ms/epoch - 37ms/step\n",
      "Epoch 18/20\n",
      "1/1 - 0s - loss: 0.2967 - accuracy: 1.0000 - val_loss: 0.4652 - val_accuracy: 0.0000e+00 - 35ms/epoch - 35ms/step\n",
      "Epoch 19/20\n",
      "1/1 - 0s - loss: 0.2900 - accuracy: 1.0000 - val_loss: 0.4519 - val_accuracy: 0.0000e+00 - 46ms/epoch - 46ms/step\n",
      "Epoch 20/20\n",
      "1/1 - 0s - loss: 0.2353 - accuracy: 1.0000 - val_loss: 0.4389 - val_accuracy: 0.0000e+00 - 49ms/epoch - 49ms/step\n"
     ]
    },
    {
     "data": {
      "text/plain": [
       "<keras.callbacks.History at 0x187d25cd0>"
      ]
     },
     "execution_count": 94,
     "metadata": {},
     "output_type": "execute_result"
    }
   ],
   "source": [
    "model.fit(X_train, y_train, batch_size=50, epochs=20, validation_data=(X_val, y_val), verbose=2)"
   ]
  },
  {
   "cell_type": "code",
   "execution_count": 95,
   "metadata": {
    "id": "i725NjEeMdbl"
   },
   "outputs": [
    {
     "name": "stdout",
     "output_type": "stream",
     "text": [
      "F1 scores\n",
      "threshold | training | dev  \n",
      "0.020:      0.100      0.100\n",
      "0.030:      0.100      0.100\n",
      "0.040:      0.100      0.100\n",
      "0.050:      0.100      0.100\n",
      "0.055:      0.100      0.100\n",
      "0.058:      0.100      0.100\n",
      "0.060:      0.100      0.100\n",
      "0.080:      0.100      0.100\n",
      "0.100:      0.100      0.100\n",
      "0.200:      0.375      0.100\n",
      "0.300:      0.857      0.000\n",
      "0.400:      0.857      0.000\n",
      "0.500:      1.000      0.000\n",
      "0.600:      0.800      0.000\n",
      "0.700:      0.500      0.000\n"
     ]
    }
   ],
   "source": [
    "pred_train = model.predict(X_train, batch_size=50)\n",
    "pred_dev = model.predict(X_val, batch_size=50)\n",
    "# perform evaluation\n",
    "show_f1_score(y_train, pred_train, y_val, pred_dev)"
   ]
  },
  {
   "cell_type": "code",
   "execution_count": 128,
   "metadata": {},
   "outputs": [],
   "source": [
    "pred_train1 = pred_train.astype('int64')\n",
    "target_names = ['class 0', 'class 1', 'class 2']"
   ]
  },
  {
   "cell_type": "code",
   "execution_count": 132,
   "metadata": {},
   "outputs": [
    {
     "name": "stdout",
     "output_type": "stream",
     "text": [
      "              precision    recall  f1-score   support\n",
      "\n",
      "           0       0.00      0.00      0.00         0\n",
      "           1       0.00      0.00      0.00         0\n",
      "           2       0.00      0.00      0.00         0\n",
      "           3       0.00      0.00      0.00         0\n",
      "           4       0.00      0.00      0.00         0\n",
      "           5       0.00      0.00      0.00         0\n",
      "           6       0.00      0.00      0.00         1\n",
      "           7       0.00      0.00      0.00         0\n",
      "           8       0.00      0.00      0.00         2\n",
      "           9       0.00      0.00      0.00         0\n",
      "          10       0.00      0.00      0.00         0\n",
      "          11       0.00      0.00      0.00         0\n",
      "          12       0.00      0.00      0.00         0\n",
      "          13       0.00      0.00      0.00         0\n",
      "          14       0.00      0.00      0.00         0\n",
      "          15       0.00      0.00      0.00         0\n",
      "          16       0.00      0.00      0.00         0\n",
      "          17       0.00      0.00      0.00         0\n",
      "          18       0.00      0.00      0.00         0\n",
      "\n",
      "   micro avg       0.00      0.00      0.00         3\n",
      "   macro avg       0.00      0.00      0.00         3\n",
      "weighted avg       0.00      0.00      0.00         3\n",
      " samples avg       0.00      0.00      0.00         3\n",
      "\n"
     ]
    },
    {
     "name": "stderr",
     "output_type": "stream",
     "text": [
      "/usr/local/Cellar/jupyterlab/2.2.9_1/libexec/lib/python3.9/site-packages/sklearn/metrics/_classification.py:1308: UndefinedMetricWarning: Precision and F-score are ill-defined and being set to 0.0 in labels with no predicted samples. Use `zero_division` parameter to control this behavior.\n",
      "  _warn_prf(average, modifier, msg_start, len(result))\n",
      "/usr/local/Cellar/jupyterlab/2.2.9_1/libexec/lib/python3.9/site-packages/sklearn/metrics/_classification.py:1308: UndefinedMetricWarning: Recall and F-score are ill-defined and being set to 0.0 in labels with no true samples. Use `zero_division` parameter to control this behavior.\n",
      "  _warn_prf(average, modifier, msg_start, len(result))\n",
      "/usr/local/Cellar/jupyterlab/2.2.9_1/libexec/lib/python3.9/site-packages/sklearn/metrics/_classification.py:1308: UndefinedMetricWarning: Precision and F-score are ill-defined and being set to 0.0 due to no predicted samples. Use `zero_division` parameter to control this behavior.\n",
      "  _warn_prf(average, modifier, msg_start, len(result))\n",
      "/usr/local/Cellar/jupyterlab/2.2.9_1/libexec/lib/python3.9/site-packages/sklearn/metrics/_classification.py:1308: UndefinedMetricWarning: Precision and F-score are ill-defined and being set to 0.0 in samples with no predicted labels. Use `zero_division` parameter to control this behavior.\n",
      "  _warn_prf(average, modifier, msg_start, len(result))\n"
     ]
    }
   ],
   "source": [
    "print(classification_report(y_train, pred_train1))"
   ]
  },
  {
   "cell_type": "code",
   "execution_count": 123,
   "metadata": {},
   "outputs": [
    {
     "data": {
      "text/plain": [
       "0.0"
      ]
     },
     "execution_count": 123,
     "metadata": {},
     "output_type": "execute_result"
    }
   ],
   "source": [
    "accuracy_score(y_train, pred_train1)"
   ]
  },
  {
   "cell_type": "code",
   "execution_count": 124,
   "metadata": {},
   "outputs": [
    {
     "data": {
      "text/plain": [
       "array([[0, 0, 0, 0, 0, 0, 0, 0, 1, 0, 0, 0, 0, 0, 0, 0, 0, 0, 0],\n",
       "       [0, 0, 0, 0, 0, 0, 1, 0, 0, 0, 0, 0, 0, 0, 0, 0, 0, 0, 0],\n",
       "       [0, 0, 0, 0, 0, 0, 0, 0, 1, 0, 0, 0, 0, 0, 0, 0, 0, 0, 0]])"
      ]
     },
     "execution_count": 124,
     "metadata": {},
     "output_type": "execute_result"
    }
   ],
   "source": [
    "y_train"
   ]
  },
  {
   "cell_type": "code",
   "execution_count": 126,
   "metadata": {},
   "outputs": [
    {
     "data": {
      "text/plain": [
       "array([[0, 0, 0, 0, 0, 0, 0, 0, 0, 0, 0, 0, 0, 0, 0, 0, 0, 0, 0],\n",
       "       [0, 0, 0, 0, 0, 0, 0, 0, 0, 0, 0, 0, 0, 0, 0, 0, 0, 0, 0],\n",
       "       [0, 0, 0, 0, 0, 0, 0, 0, 0, 0, 0, 0, 0, 0, 0, 0, 0, 0, 0]])"
      ]
     },
     "execution_count": 126,
     "metadata": {},
     "output_type": "execute_result"
    }
   ],
   "source": [
    "pred_train1"
   ]
  },
  {
   "cell_type": "code",
   "execution_count": null,
   "metadata": {},
   "outputs": [],
   "source": []
  }
 ],
 "metadata": {
  "colab": {
   "collapsed_sections": [],
   "name": "CS598-Final-Project.ipynb",
   "provenance": []
  },
  "kernelspec": {
   "display_name": "Python 3",
   "language": "python",
   "name": "python3"
  },
  "language_info": {
   "codemirror_mode": {
    "name": "ipython",
    "version": 3
   },
   "file_extension": ".py",
   "mimetype": "text/x-python",
   "name": "python",
   "nbconvert_exporter": "python",
   "pygments_lexer": "ipython3",
   "version": "3.9.1"
  }
 },
 "nbformat": 4,
 "nbformat_minor": 1
}
